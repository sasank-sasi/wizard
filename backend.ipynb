{
 "cells": [
  {
   "cell_type": "code",
   "execution_count": 4,
   "metadata": {},
   "outputs": [
    {
     "name": "stderr",
     "output_type": "stream",
     "text": [
      "Special tokens have been added in the vocabulary, make sure the associated word embeddings are fine-tuned or trained.\n"
     ]
    }
   ],
   "source": [
    "from transformers import WhisperProcessor, WhisperForConditionalGeneration\n",
    "import torch\n",
    "import librosa\n",
    "\n",
    "# Load the Whisper model and processor from Hugging Face\n",
    "processor = WhisperProcessor.from_pretrained(\"openai/whisper-small\")\n",
    "model = WhisperForConditionalGeneration.from_pretrained(\"openai/whisper-small\")"
   ]
  },
  {
   "cell_type": "code",
   "execution_count": 11,
   "metadata": {},
   "outputs": [
    {
     "name": "stdout",
     "output_type": "stream",
     "text": [
      "Transcript:  This is test 2 for audio to speech\n"
     ]
    }
   ],
   "source": [
    "def transcribe_audio(file_path):\n",
    "    # Load and process the audio file\n",
    "    audio_data, sampling_rate = librosa.load(file_path, sr=16000)\n",
    "    audio_input = processor(audio_data, sampling_rate=sampling_rate, return_tensors=\"pt\").input_features\n",
    "\n",
    "    # Generate transcription\n",
    "    with torch.no_grad():\n",
    "        generated_ids = model.generate(audio_input)\n",
    "        transcript = processor.batch_decode(generated_ids, skip_special_tokens=True)[0]\n",
    "    \n",
    "    return transcript\n",
    "\n",
    "# Test the speech-to-text function on an audio file\n",
    "if __name__ == '__main__':\n",
    "    audio_file_path = \"test2.wav\"\n",
    "    \n",
    "    # Call the transcription function\n",
    "    transcript = transcribe_audio(audio_file_path)\n",
    "    \n",
    "    print(\"Transcript:\", transcript)"
   ]
  }
 ],
 "metadata": {
  "kernelspec": {
   "display_name": "Python 3",
   "language": "python",
   "name": "python3"
  },
  "language_info": {
   "codemirror_mode": {
    "name": "ipython",
    "version": 3
   },
   "file_extension": ".py",
   "mimetype": "text/x-python",
   "name": "python",
   "nbconvert_exporter": "python",
   "pygments_lexer": "ipython3",
   "version": "3.11.9"
  }
 },
 "nbformat": 4,
 "nbformat_minor": 2
}
